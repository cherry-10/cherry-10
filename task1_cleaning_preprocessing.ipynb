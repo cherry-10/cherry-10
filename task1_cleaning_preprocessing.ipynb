{
 "cells": [
  {
   "cell_type": "markdown",
   "id": "215a4209-9883-4b22-89dc-b083504a2c32",
   "metadata": {},
   "source": [
    "## Importing libraries "
   ]
  },
  {
   "cell_type": "code",
   "execution_count": 5,
   "id": "6616816f-48af-42fe-b05f-ae3b2620dabe",
   "metadata": {},
   "outputs": [],
   "source": [
    "import pandas as pd"
   ]
  },
  {
   "cell_type": "markdown",
   "id": "4026bfa6-fbce-4d00-9d68-a5bcedc2bb41",
   "metadata": {},
   "source": [
    "## importing sales data set"
   ]
  },
  {
   "cell_type": "code",
   "execution_count": 10,
   "id": "85db1c2c-4848-48f6-a6f7-e91dac35332d",
   "metadata": {},
   "outputs": [],
   "source": [
    "sales_data = pd.read_csv('C:\\\\Users\\\\Dell\\\\OneDrive\\\\ドキュメント\\\\charan teja\\\\project files\\\\amazon.csv')"
   ]
  },
  {
   "cell_type": "markdown",
   "id": "83e56a73-04e8-4551-b5e6-a8cc81de9cf4",
   "metadata": {},
   "source": [
    "### checking the set is imported or not / printing top 5 columns in data set"
   ]
  },
  {
   "cell_type": "code",
   "execution_count": 36,
   "id": "0fb5f1e2-724b-4039-b99d-c83684e192fc",
   "metadata": {},
   "outputs": [
    {
     "data": {
      "text/html": [
       "<div>\n",
       "<style scoped>\n",
       "    .dataframe tbody tr th:only-of-type {\n",
       "        vertical-align: middle;\n",
       "    }\n",
       "\n",
       "    .dataframe tbody tr th {\n",
       "        vertical-align: top;\n",
       "    }\n",
       "\n",
       "    .dataframe thead th {\n",
       "        text-align: right;\n",
       "    }\n",
       "</style>\n",
       "<table border=\"1\" class=\"dataframe\">\n",
       "  <thead>\n",
       "    <tr style=\"text-align: right;\">\n",
       "      <th></th>\n",
       "      <th>discounted_price</th>\n",
       "      <th>actual_price</th>\n",
       "      <th>discount_percentage</th>\n",
       "      <th>rating</th>\n",
       "      <th>rating_count</th>\n",
       "    </tr>\n",
       "  </thead>\n",
       "  <tbody>\n",
       "    <tr>\n",
       "      <th>count</th>\n",
       "      <td>1465.000000</td>\n",
       "      <td>1465.000000</td>\n",
       "      <td>1465.000000</td>\n",
       "      <td>1464.000000</td>\n",
       "      <td>1465.000000</td>\n",
       "    </tr>\n",
       "    <tr>\n",
       "      <th>mean</th>\n",
       "      <td>3125.310874</td>\n",
       "      <td>5444.990635</td>\n",
       "      <td>47.691468</td>\n",
       "      <td>4.096585</td>\n",
       "      <td>18270.564505</td>\n",
       "    </tr>\n",
       "    <tr>\n",
       "      <th>std</th>\n",
       "      <td>6944.304394</td>\n",
       "      <td>10874.826864</td>\n",
       "      <td>21.635905</td>\n",
       "      <td>0.291674</td>\n",
       "      <td>42729.995315</td>\n",
       "    </tr>\n",
       "    <tr>\n",
       "      <th>min</th>\n",
       "      <td>39.000000</td>\n",
       "      <td>39.000000</td>\n",
       "      <td>0.000000</td>\n",
       "      <td>2.000000</td>\n",
       "      <td>0.000000</td>\n",
       "    </tr>\n",
       "    <tr>\n",
       "      <th>25%</th>\n",
       "      <td>325.000000</td>\n",
       "      <td>800.000000</td>\n",
       "      <td>32.000000</td>\n",
       "      <td>4.000000</td>\n",
       "      <td>1173.000000</td>\n",
       "    </tr>\n",
       "    <tr>\n",
       "      <th>50%</th>\n",
       "      <td>799.000000</td>\n",
       "      <td>1650.000000</td>\n",
       "      <td>50.000000</td>\n",
       "      <td>4.100000</td>\n",
       "      <td>5178.000000</td>\n",
       "    </tr>\n",
       "    <tr>\n",
       "      <th>75%</th>\n",
       "      <td>1999.000000</td>\n",
       "      <td>4295.000000</td>\n",
       "      <td>63.000000</td>\n",
       "      <td>4.300000</td>\n",
       "      <td>17325.000000</td>\n",
       "    </tr>\n",
       "    <tr>\n",
       "      <th>max</th>\n",
       "      <td>77990.000000</td>\n",
       "      <td>139900.000000</td>\n",
       "      <td>94.000000</td>\n",
       "      <td>5.000000</td>\n",
       "      <td>426973.000000</td>\n",
       "    </tr>\n",
       "  </tbody>\n",
       "</table>\n",
       "</div>"
      ],
      "text/plain": [
       "       discounted_price   actual_price  discount_percentage       rating  \\\n",
       "count       1465.000000    1465.000000          1465.000000  1464.000000   \n",
       "mean        3125.310874    5444.990635            47.691468     4.096585   \n",
       "std         6944.304394   10874.826864            21.635905     0.291674   \n",
       "min           39.000000      39.000000             0.000000     2.000000   \n",
       "25%          325.000000     800.000000            32.000000     4.000000   \n",
       "50%          799.000000    1650.000000            50.000000     4.100000   \n",
       "75%         1999.000000    4295.000000            63.000000     4.300000   \n",
       "max        77990.000000  139900.000000            94.000000     5.000000   \n",
       "\n",
       "        rating_count  \n",
       "count    1465.000000  \n",
       "mean    18270.564505  \n",
       "std     42729.995315  \n",
       "min         0.000000  \n",
       "25%      1173.000000  \n",
       "50%      5178.000000  \n",
       "75%     17325.000000  \n",
       "max    426973.000000  "
      ]
     },
     "execution_count": 36,
     "metadata": {},
     "output_type": "execute_result"
    }
   ],
   "source": [
    "sales_data.describe()"
   ]
  },
  {
   "cell_type": "code",
   "execution_count": 14,
   "id": "74d2faca-8a50-4344-a522-e8d8d72f1f8e",
   "metadata": {},
   "outputs": [
    {
     "name": "stdout",
     "output_type": "stream",
     "text": [
      "   product_id                                       product_name  \\\n",
      "0  B07JW9H4J1  Wayona Nylon Braided USB to Lightning Fast Cha...   \n",
      "1  B098NS6PVG  Ambrane Unbreakable 60W / 3A Fast Charging 1.5...   \n",
      "2  B096MSW6CT  Sounce Fast Phone Charging Cable & Data Sync U...   \n",
      "3  B08HDJ86NZ  boAt Deuce USB 300 2 in 1 Type-C & Micro USB S...   \n",
      "4  B08CF3B7N1  Portronics Konnect L 1.2M Fast Charging 3A 8 P...   \n",
      "\n",
      "                                            category discounted_price  \\\n",
      "0  Computers&Accessories|Accessories&Peripherals|...             ₹399   \n",
      "1  Computers&Accessories|Accessories&Peripherals|...             ₹199   \n",
      "2  Computers&Accessories|Accessories&Peripherals|...             ₹199   \n",
      "3  Computers&Accessories|Accessories&Peripherals|...             ₹329   \n",
      "4  Computers&Accessories|Accessories&Peripherals|...             ₹154   \n",
      "\n",
      "  actual_price discount_percentage rating rating_count  \\\n",
      "0       ₹1,099                 64%    4.2       24,269   \n",
      "1         ₹349                 43%    4.0       43,994   \n",
      "2       ₹1,899                 90%    3.9        7,928   \n",
      "3         ₹699                 53%    4.2       94,363   \n",
      "4         ₹399                 61%    4.2       16,905   \n",
      "\n",
      "                                       about_product  \\\n",
      "0  High Compatibility : Compatible With iPhone 12...   \n",
      "1  Compatible with all Type C enabled devices, be...   \n",
      "2  【 Fast Charger& Data Sync】-With built-in safet...   \n",
      "3  The boAt Deuce USB 300 2 in 1 cable is compati...   \n",
      "4  [CHARGE & SYNC FUNCTION]- This cable comes wit...   \n",
      "\n",
      "                                             user_id  \\\n",
      "0  AG3D6O4STAQKAY2UVGEUV46KN35Q,AHMY5CWJMMK5BJRBB...   \n",
      "1  AECPFYFQVRUWC3KGNLJIOREFP5LQ,AGYYVPDD7YG7FYNBX...   \n",
      "2  AGU3BBQ2V2DDAMOAKGFAWDDQ6QHA,AESFLDV2PT363T2AQ...   \n",
      "3  AEWAZDZZJLQUYVOVGBEUKSLXHQ5A,AG5HTSFRRE6NL3M5S...   \n",
      "4  AE3Q6KSUK5P75D5HFYHCRAOLODSA,AFUGIFH5ZAFXRDSZH...   \n",
      "\n",
      "                                           user_name  \\\n",
      "0  Manav,Adarsh gupta,Sundeep,S.Sayeed Ahmed,jasp...   \n",
      "1  ArdKn,Nirbhay kumar,Sagar Viswanathan,Asp,Plac...   \n",
      "2  Kunal,Himanshu,viswanath,sai niharka,saqib mal...   \n",
      "3  Omkar dhale,JD,HEMALATHA,Ajwadh a.,amar singh ...   \n",
      "4  rahuls6099,Swasat Borah,Ajay Wadke,Pranali,RVK...   \n",
      "\n",
      "                                           review_id  \\\n",
      "0  R3HXWT0LRP0NMF,R2AJM3LFTLZHFO,R6AQJGUP6P86,R1K...   \n",
      "1  RGIQEG07R9HS2,R1SMWZQ86XIN8U,R2J3Y1WL29GWDE,RY...   \n",
      "2  R3J3EQQ9TZI5ZJ,R3E7WBGK7ID0KV,RWU79XKQ6I1QF,R2...   \n",
      "3  R3EEUZKKK9J36I,R3HJVYCLYOY554,REDECAZ7AMPQC,R1...   \n",
      "4  R1BP4L2HH9TFUP,R16PVJEXKV6QZS,R2UPDB81N66T4P,R...   \n",
      "\n",
      "                                        review_title  \\\n",
      "0  Satisfied,Charging is really fast,Value for mo...   \n",
      "1  A Good Braided Cable for Your Type C Device,Go...   \n",
      "2  Good speed for earlier versions,Good Product,W...   \n",
      "3  Good product,Good one,Nice,Really nice product...   \n",
      "4  As good as original,Decent,Good one for second...   \n",
      "\n",
      "                                      review_content  \\\n",
      "0  Looks durable Charging is fine tooNo complains...   \n",
      "1  I ordered this cable to connect my phone to An...   \n",
      "2  Not quite durable and sturdy,https://m.media-a...   \n",
      "3  Good product,long wire,Charges good,Nice,I bou...   \n",
      "4  Bought this instead of original apple, does th...   \n",
      "\n",
      "                                            img_link  \\\n",
      "0  https://m.media-amazon.com/images/W/WEBP_40237...   \n",
      "1  https://m.media-amazon.com/images/W/WEBP_40237...   \n",
      "2  https://m.media-amazon.com/images/W/WEBP_40237...   \n",
      "3  https://m.media-amazon.com/images/I/41V5FtEWPk...   \n",
      "4  https://m.media-amazon.com/images/W/WEBP_40237...   \n",
      "\n",
      "                                        product_link  \n",
      "0  https://www.amazon.in/Wayona-Braided-WN3LG1-Sy...  \n",
      "1  https://www.amazon.in/Ambrane-Unbreakable-Char...  \n",
      "2  https://www.amazon.in/Sounce-iPhone-Charging-C...  \n",
      "3  https://www.amazon.in/Deuce-300-Resistant-Tang...  \n",
      "4  https://www.amazon.in/Portronics-Konnect-POR-1...  \n"
     ]
    }
   ],
   "source": [
    "print(sales_data.head())"
   ]
  },
  {
   "cell_type": "markdown",
   "id": "18d41186-f5ae-4ffb-a277-c7e5c14bc135",
   "metadata": {},
   "source": [
    "## Cleaning price and percentage columns"
   ]
  },
  {
   "cell_type": "code",
   "execution_count": 18,
   "id": "3024293c-bbd0-4ed9-8606-ba9cc4b42a8b",
   "metadata": {},
   "outputs": [],
   "source": [
    "def clean_currency(value):\n",
    "    return float(str(value).replace(\"₹\", \"\").replace(\",\", \"\").strip())\n",
    "\n",
    "def clean_percentage(value):\n",
    "    return float(str(value).replace(\"%\", \"\").strip())"
   ]
  },
  {
   "cell_type": "code",
   "execution_count": 22,
   "id": "f709867d-0b64-472c-b4b8-00f373439ff5",
   "metadata": {},
   "outputs": [],
   "source": [
    "sales_data[\"discounted_price\"] = sales_data[\"discounted_price\"].apply(clean_currency)\n",
    "sales_data[\"actual_price\"] = sales_data[\"actual_price\"].apply(clean_currency)\n",
    "sales_data[\"discount_percentage\"] = sales_data[\"discount_percentage\"].apply(clean_percentage)"
   ]
  },
  {
   "cell_type": "markdown",
   "id": "a0517a88-8840-40b8-9915-5d017f47469d",
   "metadata": {},
   "source": [
    "### Converting rating and rating_count to numeric"
   ]
  },
  {
   "cell_type": "code",
   "execution_count": 25,
   "id": "ae0a70f2-5a85-41b5-90f9-3f1acbba72f2",
   "metadata": {},
   "outputs": [],
   "source": [
    "sales_data[\"rating\"] = pd.to_numeric(sales_data[\"rating\"], errors='coerce')\n",
    "sales_data[\"rating_count\"] = sales_data[\"rating_count\"].str.replace(\",\", \"\").astype(float)"
   ]
  },
  {
   "cell_type": "markdown",
   "id": "0af48404-edbc-452d-b506-608897f1021b",
   "metadata": {},
   "source": [
    "### Handling missing values (example: fill missing rating_count with 0)"
   ]
  },
  {
   "cell_type": "code",
   "execution_count": 28,
   "id": "e5a1cd83-9fb0-4272-ab5d-92ec80405527",
   "metadata": {},
   "outputs": [],
   "source": [
    "sales_data[\"rating_count\"] = sales_data[\"rating_count\"].fillna(0)"
   ]
  },
  {
   "cell_type": "markdown",
   "id": "c5249df0-264a-4f93-8045-f697c2f72638",
   "metadata": {},
   "source": [
    "### Saving cleaned data to a new CSV"
   ]
  },
  {
   "cell_type": "code",
   "execution_count": 45,
   "id": "dd1a8530-198e-4cc5-898c-a68a4f7aed8a",
   "metadata": {},
   "outputs": [],
   "source": [
    "output_path = \"amazon_cleaned.csv\"\n",
    "sales_data.to_csv(output_path, index=False)"
   ]
  },
  {
   "cell_type": "markdown",
   "id": "95897dd4-757e-4648-9a20-ad4c2be64795",
   "metadata": {},
   "source": [
    "##  Confirmation message"
   ]
  },
  {
   "cell_type": "code",
   "execution_count": 48,
   "id": "c5bf511b-0cdf-429b-99d0-b9da27b47d41",
   "metadata": {},
   "outputs": [
    {
     "name": "stdout",
     "output_type": "stream",
     "text": [
      "✅ Your file was saved successfully as 'amazon_cleaned.csv'.\n"
     ]
    }
   ],
   "source": [
    "import os\n",
    "if os.path.exists(output_path):\n",
    "    print(f\"✅ Your file was saved successfully as '{output_path}'.\")\n",
    "else:\n",
    "    print(\"❌ File was not saved. Please check for errors.\")"
   ]
  },
  {
   "cell_type": "code",
   "execution_count": null,
   "id": "52180b31-4fd3-43f1-acc0-4ba1758e2cba",
   "metadata": {},
   "outputs": [],
   "source": []
  }
 ],
 "metadata": {
  "kernelspec": {
   "display_name": "Python [conda env:base] *",
   "language": "python",
   "name": "conda-base-py"
  },
  "language_info": {
   "codemirror_mode": {
    "name": "ipython",
    "version": 3
   },
   "file_extension": ".py",
   "mimetype": "text/x-python",
   "name": "python",
   "nbconvert_exporter": "python",
   "pygments_lexer": "ipython3",
   "version": "3.12.7"
  }
 },
 "nbformat": 4,
 "nbformat_minor": 5
}
